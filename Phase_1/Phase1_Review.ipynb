{
 "cells": [
  {
   "cell_type": "markdown",
   "metadata": {},
   "source": [
    "# Phase 1 Code Challenge Review \n",
    "\n",
    "_November 4, 2020_ \n",
    "\n",
    "TOPICS TO BE COVERED:\n",
    "- Pandas Operations\n",
    "- Data Visualization\n",
    "- Statistics\n",
    "- Python Data Structure"
   ]
  },
  {
   "cell_type": "markdown",
   "metadata": {},
   "source": [
    "#### 1. Pandas Operations"
   ]
  },
  {
   "cell_type": "code",
   "execution_count": 55,
   "metadata": {},
   "outputs": [],
   "source": [
    "import pandas as pd \n",
    "import numpy as np\n",
    "import matplotlib.pyplot as plt\n",
    "import seaborn as sns\n",
    "plt.style.use('seaborn')"
   ]
  },
  {
   "cell_type": "code",
   "execution_count": 56,
   "metadata": {},
   "outputs": [],
   "source": [
    "# import data from a file \n",
    "df = sns.load_dataset('iris')\n",
    "\n",
    "# what if this file is in a directory?\n",
    "df2 = pd.read_csv('auto-mpg.csv')"
   ]
  },
  {
   "cell_type": "code",
   "execution_count": 45,
   "metadata": {},
   "outputs": [
    {
     "data": {
      "text/plain": [
       "(150, 5)"
      ]
     },
     "execution_count": 45,
     "metadata": {},
     "output_type": "execute_result"
    }
   ],
   "source": [
    "# examine the first few elements of it\n",
    "df.shape"
   ]
  },
  {
   "cell_type": "code",
   "execution_count": 46,
   "metadata": {},
   "outputs": [],
   "source": [
    "# examine the dimensions of it\n",
    "df.iloc[2:10,1:3]=np.nan"
   ]
  },
  {
   "cell_type": "code",
   "execution_count": 49,
   "metadata": {},
   "outputs": [
    {
     "data": {
      "text/plain": [
       "sepal_length    0\n",
       "sepal_width     8\n",
       "petal_length    8\n",
       "petal_width     0\n",
       "species         0\n",
       "dtype: int64"
      ]
     },
     "execution_count": 49,
     "metadata": {},
     "output_type": "execute_result"
    }
   ],
   "source": [
    "# check to see if you have missing values\n",
    "df.isnull().sum()"
   ]
  },
  {
   "cell_type": "code",
   "execution_count": 9,
   "metadata": {
    "scrolled": false
   },
   "outputs": [],
   "source": [
    "# introduce some missing values\n",
    "df.isnull().sum()\n",
    "\n",
    "# when you put in 1 that means you are dropping missing value by column \n",
    "df.dropna(subset = ['sepal_width'],axis=0, inplace = True)"
   ]
  },
  {
   "cell_type": "code",
   "execution_count": 11,
   "metadata": {},
   "outputs": [
    {
     "data": {
      "text/html": [
       "<div>\n",
       "<style scoped>\n",
       "    .dataframe tbody tr th:only-of-type {\n",
       "        vertical-align: middle;\n",
       "    }\n",
       "\n",
       "    .dataframe tbody tr th {\n",
       "        vertical-align: top;\n",
       "    }\n",
       "\n",
       "    .dataframe thead th {\n",
       "        text-align: right;\n",
       "    }\n",
       "</style>\n",
       "<table border=\"1\" class=\"dataframe\">\n",
       "  <thead>\n",
       "    <tr style=\"text-align: right;\">\n",
       "      <th></th>\n",
       "      <th>sepal_length</th>\n",
       "      <th>sepal_width</th>\n",
       "      <th>petal_length</th>\n",
       "      <th>petal_width</th>\n",
       "      <th>species</th>\n",
       "      <th>sepal_length_10</th>\n",
       "    </tr>\n",
       "  </thead>\n",
       "  <tbody>\n",
       "    <tr>\n",
       "      <th>0</th>\n",
       "      <td>5.1</td>\n",
       "      <td>3.5</td>\n",
       "      <td>1.4</td>\n",
       "      <td>0.2</td>\n",
       "      <td>setosa</td>\n",
       "      <td>51.0</td>\n",
       "    </tr>\n",
       "    <tr>\n",
       "      <th>1</th>\n",
       "      <td>4.9</td>\n",
       "      <td>3.0</td>\n",
       "      <td>1.4</td>\n",
       "      <td>0.2</td>\n",
       "      <td>setosa</td>\n",
       "      <td>49.0</td>\n",
       "    </tr>\n",
       "    <tr>\n",
       "      <th>10</th>\n",
       "      <td>5.4</td>\n",
       "      <td>3.7</td>\n",
       "      <td>1.5</td>\n",
       "      <td>0.2</td>\n",
       "      <td>setosa</td>\n",
       "      <td>54.0</td>\n",
       "    </tr>\n",
       "    <tr>\n",
       "      <th>11</th>\n",
       "      <td>4.8</td>\n",
       "      <td>3.4</td>\n",
       "      <td>1.6</td>\n",
       "      <td>0.2</td>\n",
       "      <td>setosa</td>\n",
       "      <td>48.0</td>\n",
       "    </tr>\n",
       "    <tr>\n",
       "      <th>12</th>\n",
       "      <td>4.8</td>\n",
       "      <td>3.0</td>\n",
       "      <td>1.4</td>\n",
       "      <td>0.1</td>\n",
       "      <td>setosa</td>\n",
       "      <td>48.0</td>\n",
       "    </tr>\n",
       "  </tbody>\n",
       "</table>\n",
       "</div>"
      ],
      "text/plain": [
       "    sepal_length  sepal_width  petal_length  petal_width species  \\\n",
       "0            5.1          3.5           1.4          0.2  setosa   \n",
       "1            4.9          3.0           1.4          0.2  setosa   \n",
       "10           5.4          3.7           1.5          0.2  setosa   \n",
       "11           4.8          3.4           1.6          0.2  setosa   \n",
       "12           4.8          3.0           1.4          0.1  setosa   \n",
       "\n",
       "    sepal_length_10  \n",
       "0              51.0  \n",
       "1              49.0  \n",
       "10             54.0  \n",
       "11             48.0  \n",
       "12             48.0  "
      ]
     },
     "execution_count": 11,
     "metadata": {},
     "output_type": "execute_result"
    }
   ],
   "source": [
    "df.head()"
   ]
  },
  {
   "cell_type": "code",
   "execution_count": null,
   "metadata": {
    "scrolled": false
   },
   "outputs": [],
   "source": [
    "# drop them by certain columns"
   ]
  },
  {
   "cell_type": "code",
   "execution_count": 50,
   "metadata": {},
   "outputs": [
    {
     "data": {
      "text/plain": [
       "sepal_length    0\n",
       "sepal_width     8\n",
       "petal_length    8\n",
       "petal_width     0\n",
       "species         0\n",
       "dtype: int64"
      ]
     },
     "execution_count": 50,
     "metadata": {},
     "output_type": "execute_result"
    }
   ],
   "source": [
    "df.isnull().sum()"
   ]
  },
  {
   "cell_type": "code",
   "execution_count": 51,
   "metadata": {},
   "outputs": [
    {
     "data": {
      "text/plain": [
       "(142, 5)"
      ]
     },
     "execution_count": 51,
     "metadata": {},
     "output_type": "execute_result"
    }
   ],
   "source": [
    "df.dropna(subset=['petal_length']).shape"
   ]
  },
  {
   "cell_type": "code",
   "execution_count": null,
   "metadata": {
    "scrolled": true
   },
   "outputs": [],
   "source": [
    "# convert and modify columns\n",
    "\n",
    "# create a new column, that is 10 times the sepal length, called sepal length 10\n",
    "# This is broadcasting \n",
    "df['sepal_length_10'] = df['sepal_length'] * 10"
   ]
  },
  {
   "cell_type": "code",
   "execution_count": null,
   "metadata": {
    "scrolled": true
   },
   "outputs": [],
   "source": [
    "# another way?\n",
    "# This is the some thing as the broadcasting but just using lambda \n",
    "df['sepal_length_10'] = df['sepal_length'].apply(lambda x: x*10)"
   ]
  },
  {
   "cell_type": "markdown",
   "metadata": {},
   "source": [
    "#### 2. Data Visualization"
   ]
  },
  {
   "cell_type": "code",
   "execution_count": 53,
   "metadata": {},
   "outputs": [
    {
     "data": {
      "text/plain": [
       "3"
      ]
     },
     "execution_count": 53,
     "metadata": {},
     "output_type": "execute_result"
    }
   ],
   "source": [
    "# how many species are there, and how many flowers are in each species\n",
    "df['species'].nunique()"
   ]
  },
  {
   "cell_type": "code",
   "execution_count": 54,
   "metadata": {},
   "outputs": [
    {
     "data": {
      "text/plain": [
       "species\n",
       "setosa        50\n",
       "versicolor    50\n",
       "virginica     50\n",
       "dtype: int64"
      ]
     },
     "execution_count": 54,
     "metadata": {},
     "output_type": "execute_result"
    }
   ],
   "source": [
    "# Finds how many folwers are in each species \n",
    "df.groupby(['species']).size()"
   ]
  },
  {
   "cell_type": "code",
   "execution_count": 52,
   "metadata": {
    "scrolled": true
   },
   "outputs": [
    {
     "data": {
      "text/plain": [
       "species\n",
       "setosa        1.461905\n",
       "versicolor    4.260000\n",
       "virginica     5.552000\n",
       "Name: petal_length, dtype: float64"
      ]
     },
     "execution_count": 52,
     "metadata": {},
     "output_type": "execute_result"
    }
   ],
   "source": [
    "# let's plot the average pedal length for each species of iris \n",
    "\n",
    "petal_length_by_sp = df.groupby(['species']).petal_length.mean()\n",
    "petal_length_by_sp"
   ]
  },
  {
   "cell_type": "code",
   "execution_count": 30,
   "metadata": {},
   "outputs": [
    {
     "data": {
      "text/plain": [
       "Text(0.5, 0, 'species')"
      ]
     },
     "execution_count": 30,
     "metadata": {},
     "output_type": "execute_result"
    },
    {
     "data": {
      "image/png": "[encoded data removed]",
      "text/plain": [
       "<Figure size 720x432 with 1 Axes>"
      ]
     },
     "metadata": {},
     "output_type": "display_data"
    }
   ],
   "source": [
    "y = petal_length_by_sp\n",
    "x = petal_length_by_sp.index\n",
    "\n",
    "figure, ax = plt.subplots(figsize = (10,6))\n",
    "ax.bar(x, y)\n",
    "\n",
    "ax.set_title('avg petal length')\n",
    "ax.set_xlabel('species')\n",
    "# ax.set_xticks([1,2,3])\n",
    "# ax.set_xticklabels(['flower1','flower2','flower3'])"
   ]
  },
  {
   "cell_type": "code",
   "execution_count": 28,
   "metadata": {},
   "outputs": [
    {
     "data": {
      "text/plain": [
       "<BarContainer object of 4 artists>"
      ]
     },
     "execution_count": 28,
     "metadata": {},
     "output_type": "execute_result"
    },
    {
     "data": {
      "image/png": "[encoded data removed]",
      "text/plain": [
       "<Figure size 576x396 with 1 Axes>"
      ]
     },
     "metadata": {},
     "output_type": "display_data"
    }
   ],
   "source": [
    "# your turn - create a bar chart using the following dummy data\n",
    "persons = ['Annie', 'David', 'Lucy','Jin']\n",
    "height = [60, 65, 67, 62]\n",
    "\n",
    "plt.bar(persons, height)\n"
   ]
  },
  {
   "cell_type": "code",
   "execution_count": 27,
   "metadata": {
    "scrolled": true
   },
   "outputs": [
    {
     "data": {
      "text/plain": [
       "<matplotlib.collections.PathCollection at 0x7f84ebd2e850>"
      ]
     },
     "execution_count": 27,
     "metadata": {},
     "output_type": "execute_result"
    },
    {
     "data": {
      "image/png": "[encoded data removed]",
      "text/plain": [
       "<Figure size 576x396 with 1 Axes>"
      ]
     },
     "metadata": {},
     "output_type": "display_data"
    }
   ],
   "source": [
    "# scatterplot \n",
    "figure, ax = plt.subplots()\n",
    "\n",
    "ax.set_title('sepal length vs sepal width')\n",
    "ax.set_xlabel('sepal length')\n",
    "ax.set_ylabel('sepal width')\n",
    "\n",
    "x = df.sepal_length\n",
    "y = df.sepal_width\n",
    "\n",
    "ax.scatter(x, y)"
   ]
  },
  {
   "cell_type": "code",
   "execution_count": null,
   "metadata": {
    "scrolled": true
   },
   "outputs": [],
   "source": [
    "df.corr()"
   ]
  },
  {
   "cell_type": "markdown",
   "metadata": {},
   "source": [
    "Can you describe the relationship above?"
   ]
  },
  {
   "cell_type": "markdown",
   "metadata": {},
   "source": [
    "#### 3. Statistics "
   ]
  },
  {
   "cell_type": "code",
   "execution_count": 31,
   "metadata": {
    "scrolled": false
   },
   "outputs": [
    {
     "data": {
      "text/plain": [
       "mean      5.900704\n",
       "median    5.800000\n",
       "Name: sepal_length, dtype: float64"
      ]
     },
     "execution_count": 31,
     "metadata": {},
     "output_type": "execute_result"
    }
   ],
   "source": [
    "# calculate the mean and median value for sepal length \n",
    "df.sepal_length.mean()\n",
    "df.sepal_length.median()\n",
    "\n",
    "\n",
    "# this is an aggregate function\n",
    "df.sepal_length.agg(['mean','median'])"
   ]
  },
  {
   "cell_type": "code",
   "execution_count": null,
   "metadata": {},
   "outputs": [],
   "source": [
    "# what can you say about the distribution of sepal length and sepal width based on this distribution?\n",
    "\n",
    "# Talk about the mean and median and how do they differ ****"
   ]
  },
  {
   "cell_type": "code",
   "execution_count": 38,
   "metadata": {},
   "outputs": [
    {
     "data": {
      "text/html": [
       "<div>\n",
       "<style scoped>\n",
       "    .dataframe tbody tr th:only-of-type {\n",
       "        vertical-align: middle;\n",
       "    }\n",
       "\n",
       "    .dataframe tbody tr th {\n",
       "        vertical-align: top;\n",
       "    }\n",
       "\n",
       "    .dataframe thead th {\n",
       "        text-align: right;\n",
       "    }\n",
       "</style>\n",
       "<table border=\"1\" class=\"dataframe\">\n",
       "  <thead>\n",
       "    <tr style=\"text-align: right;\">\n",
       "      <th></th>\n",
       "      <th>sepal_length</th>\n",
       "      <th>sepal_width</th>\n",
       "      <th>petal_length</th>\n",
       "      <th>petal_width</th>\n",
       "      <th>species</th>\n",
       "      <th>sepal_length_10</th>\n",
       "    </tr>\n",
       "  </thead>\n",
       "  <tbody>\n",
       "    <tr>\n",
       "      <th>118</th>\n",
       "      <td>7.7</td>\n",
       "      <td>2.6</td>\n",
       "      <td>6.9</td>\n",
       "      <td>2.3</td>\n",
       "      <td>virginica</td>\n",
       "      <td>77.0</td>\n",
       "    </tr>\n",
       "  </tbody>\n",
       "</table>\n",
       "</div>"
      ],
      "text/plain": [
       "     sepal_length  sepal_width  petal_length  petal_width    species  \\\n",
       "118           7.7          2.6           6.9          2.3  virginica   \n",
       "\n",
       "     sepal_length_10  \n",
       "118             77.0  "
      ]
     },
     "execution_count": 38,
     "metadata": {},
     "output_type": "execute_result"
    }
   ],
   "source": [
    "# which flower has the longest pedal? what is the species of that flower\n",
    "df.groupby(['species']).petal_length.max().index\n",
    "\n",
    "# This gets the index\n",
    "df.sort_values(by = 'petal_length', ascending = False).head(1)"
   ]
  },
  {
   "cell_type": "code",
   "execution_count": 39,
   "metadata": {},
   "outputs": [
    {
     "data": {
      "text/html": [
       "<div>\n",
       "<style scoped>\n",
       "    .dataframe tbody tr th:only-of-type {\n",
       "        vertical-align: middle;\n",
       "    }\n",
       "\n",
       "    .dataframe tbody tr th {\n",
       "        vertical-align: top;\n",
       "    }\n",
       "\n",
       "    .dataframe thead th {\n",
       "        text-align: right;\n",
       "    }\n",
       "</style>\n",
       "<table border=\"1\" class=\"dataframe\">\n",
       "  <thead>\n",
       "    <tr style=\"text-align: right;\">\n",
       "      <th></th>\n",
       "      <th>sepal_length</th>\n",
       "      <th>sepal_width</th>\n",
       "      <th>petal_length</th>\n",
       "      <th>petal_width</th>\n",
       "      <th>species</th>\n",
       "      <th>sepal_length_10</th>\n",
       "    </tr>\n",
       "  </thead>\n",
       "  <tbody>\n",
       "    <tr>\n",
       "      <th>118</th>\n",
       "      <td>7.7</td>\n",
       "      <td>2.6</td>\n",
       "      <td>6.9</td>\n",
       "      <td>2.3</td>\n",
       "      <td>virginica</td>\n",
       "      <td>77.0</td>\n",
       "    </tr>\n",
       "  </tbody>\n",
       "</table>\n",
       "</div>"
      ],
      "text/plain": [
       "     sepal_length  sepal_width  petal_length  petal_width    species  \\\n",
       "118           7.7          2.6           6.9          2.3  virginica   \n",
       "\n",
       "     sepal_length_10  \n",
       "118             77.0  "
      ]
     },
     "execution_count": 39,
     "metadata": {},
     "output_type": "execute_result"
    }
   ],
   "source": [
    "# using logical subset \n",
    "\n",
    "df[df.petal_length == df.petal_length.max()]"
   ]
  },
  {
   "cell_type": "markdown",
   "metadata": {},
   "source": [
    "#### 4. Python Data Structure "
   ]
  },
  {
   "cell_type": "code",
   "execution_count": 2,
   "metadata": {},
   "outputs": [],
   "source": [
    "get_money = {'get':\n",
    "            [{'get':[{\n",
    "                'get':'money'\n",
    "            }]}]}"
   ]
  },
  {
   "cell_type": "code",
   "execution_count": 10,
   "metadata": {},
   "outputs": [
    {
     "data": {
      "text/plain": [
       "'money'"
      ]
     },
     "execution_count": 10,
     "metadata": {},
     "output_type": "execute_result"
    }
   ],
   "source": [
    "type(get_money)\n",
    "get_money.values()\n",
    "\n",
    "get_money['get'][0]['get'][0]['get']"
   ]
  },
  {
   "cell_type": "code",
   "execution_count": 42,
   "metadata": {},
   "outputs": [
    {
     "data": {
      "text/plain": [
       "'money'"
      ]
     },
     "execution_count": 42,
     "metadata": {},
     "output_type": "execute_result"
    }
   ],
   "source": [
    "# get the money \n",
    "get_money['get'][0]['get'][0]['get']"
   ]
  },
  {
   "cell_type": "code",
   "execution_count": 11,
   "metadata": {
    "scrolled": true
   },
   "outputs": [],
   "source": [
    "groomer_info = { 'pets':\n",
    "    [{'Ginger': [{\n",
    "        'age': 5,\n",
    "        'type': 'Pitbull',\n",
    "        'attribute': ['Playful','Cheery','Hyper']\n",
    "    }],\n",
    "    'Chloe': [{\n",
    "        'age': 1,\n",
    "        'type': 'Maine Coon Cat',\n",
    "        'attribute': ['Alert','Independent','Playful']\n",
    "    }],\n",
    "    'Joe Rogan': [{\n",
    "        'age': 8,\n",
    "        'type': 'Parrot',\n",
    "        'attribute': ['Loud','Opinionated','Annoying']\n",
    "    }],\n",
    "    'Rick Astley': [{\n",
    "        'age': 2,\n",
    "        'type': 'Labrador',\n",
    "        'attributes': ['never','gives','you','up']\n",
    "    }]}]\n",
    "}    "
   ]
  },
  {
   "cell_type": "code",
   "execution_count": 16,
   "metadata": {},
   "outputs": [
    {
     "data": {
      "text/plain": [
       "{'Ginger': [{'age': 5,\n",
       "   'type': 'Pitbull',\n",
       "   'attribute': ['Playful', 'Cheery', 'Hyper']}],\n",
       " 'Chloe': [{'age': 1,\n",
       "   'type': 'Maine Coon Cat',\n",
       "   'attribute': ['Alert', 'Independent', 'Playful']}],\n",
       " 'Joe Rogan': [{'age': 8,\n",
       "   'type': 'Parrot',\n",
       "   'attribute': ['Loud', 'Opinionated', 'Annoying']}],\n",
       " 'Rick Astley': [{'age': 2,\n",
       "   'type': 'Labrador',\n",
       "   'attributes': ['never', 'gives', 'you', 'up']}]}"
      ]
     },
     "execution_count": 16,
     "metadata": {},
     "output_type": "execute_result"
    }
   ],
   "source": [
    "groomer_info['pets'][0]"
   ]
  },
  {
   "cell_type": "code",
   "execution_count": 25,
   "metadata": {},
   "outputs": [
    {
     "data": {
      "text/plain": [
       "['Ginger', 'Chloe', 'Joe Rogan', 'Rick Astley']"
      ]
     },
     "execution_count": 25,
     "metadata": {},
     "output_type": "execute_result"
    }
   ],
   "source": [
    "# create a list of names containing all pets' names\n",
    "\n",
    "pets_name = list(groomer_info['pets'][0].keys())\n",
    "pets_name"
   ]
  },
  {
   "cell_type": "code",
   "execution_count": 34,
   "metadata": {},
   "outputs": [
    {
     "data": {
      "text/plain": [
       "[5, 1, 8, 2]"
      ]
     },
     "execution_count": 34,
     "metadata": {},
     "output_type": "execute_result"
    }
   ],
   "source": [
    "# Create a list that contains the pets ages\n",
    "\n",
    "ages = []\n",
    "\n",
    "for age in pets_name:\n",
    "    ages.append(groomer_info['pets'][0][age][0]['age'])\n",
    "    \n",
    "ages"
   ]
  },
  {
   "cell_type": "code",
   "execution_count": 31,
   "metadata": {},
   "outputs": [
    {
     "data": {
      "text/plain": [
       "['Pitbull', 'Maine Coon Cat', 'Parrot', 'Labrador']"
      ]
     },
     "execution_count": 31,
     "metadata": {},
     "output_type": "execute_result"
    }
   ],
   "source": [
    "#  create a list that contain all pets' types\n",
    "# desired output ['Pitbull','Maine Coon','Parrot','Labrador']\n",
    "types = []\n",
    "for name in pets_name:\n",
    "    types.append(groomer_info['pets'][0][name][0]['type'])\n",
    "    \n",
    "types\n",
    "    \n",
    "# MUST SEE THE STRUCTURE OF THE DATA"
   ]
  },
  {
   "cell_type": "code",
   "execution_count": null,
   "metadata": {},
   "outputs": [],
   "source": [
    "# create a function that returns the names of pets who is older than x years old\n",
    "# the function should take in a dictionary containing all pet information, \n",
    "# and an integer indicating age you want to compare\n",
    "\n",
    "def pets_older(pets,age = 3):\n",
    "    for pet in pets:\n",
    "        if 'age' in pet.values"
   ]
  },
  {
   "cell_type": "code",
   "execution_count": 23,
   "metadata": {},
   "outputs": [
    {
     "data": {
      "text/plain": [
       "{'age': 5, 'type': 'Pitbull', 'attribute': ['Playful', 'Cheery', 'Hyper']}"
      ]
     },
     "execution_count": 23,
     "metadata": {},
     "output_type": "execute_result"
    }
   ],
   "source": [
    "groomer_info['pets'][0]['Ginger'][0]"
   ]
  },
  {
   "cell_type": "code",
   "execution_count": 58,
   "metadata": {},
   "outputs": [
    {
     "name": "stdout",
     "output_type": "stream",
     "text": [
      "[2]\n"
     ]
    }
   ],
   "source": [
    "# create a list that contain all pets age \n",
    "for name in names:\n",
    "    ages = []\n",
    "    ages.append(groomer_info['pets'][0][name][0]['age'])\n",
    "print(ages)"
   ]
  },
  {
   "cell_type": "code",
   "execution_count": 57,
   "metadata": {},
   "outputs": [],
   "source": [
    "# create a function that returns the names of pets who is older than x years old\n",
    "\n",
    "# the function should take in a dictionary containing all pet information, \n",
    "# and an integer indicating age you want to compare\n",
    "\n",
    "pet_dict = groomer_info['pets'][0]\n",
    "\n",
    "def pets_older_than(groomer_info, age):\n",
    "    older_than = []\n",
    "    for name, value in pet_dict.items():\n",
    "        if value[0]['age'] > age:\n",
    "            older_than.append(name)\n",
    "    return older_than"
   ]
  },
  {
   "cell_type": "code",
   "execution_count": 58,
   "metadata": {
    "scrolled": true
   },
   "outputs": [
    {
     "data": {
      "text/plain": [
       "['Ginger', 'Joe Rogan']"
      ]
     },
     "execution_count": 58,
     "metadata": {},
     "output_type": "execute_result"
    }
   ],
   "source": [
    "pets_older_than(groomer_info,4)"
   ]
  },
  {
   "cell_type": "markdown",
   "metadata": {},
   "source": [
    "syntax of list comprehension: [expression for item in collection if xxx else xxx]\n",
    "for example:\n",
    "[i*2 for i in list]"
   ]
  }
 ],
 "metadata": {
  "kernelspec": {
   "display_name": "Python 3",
   "language": "python",
   "name": "python3"
  },
  "language_info": {
   "codemirror_mode": {
    "name": "ipython",
    "version": 3
   },
   "file_extension": ".py",
   "mimetype": "text/x-python",
   "name": "python",
   "nbconvert_exporter": "python",
   "pygments_lexer": "ipython3",
   "version": "3.8.3"
  }
 },
 "nbformat": 4,
 "nbformat_minor": 2
}
